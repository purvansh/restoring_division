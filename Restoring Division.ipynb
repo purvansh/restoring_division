{
 "cells": [
  {
   "cell_type": "markdown",
   "metadata": {},
   "source": [
    "\n",
    "## Program to implement Restoring Division \n"
   ]
  },
  {
   "cell_type": "markdown",
   "metadata": {},
   "source": [
    "#### Program code:-"
   ]
  },
  {
   "cell_type": "code",
   "execution_count": 6,
   "metadata": {},
   "outputs": [],
   "source": [
    "def Add(m, n, length):\n",
    "\n",
    "    lmax = max(len(m), len(n))\n",
    "    c = 0\n",
    "    ml = [0] * (lmax - len(m)) + [int(x) for x in list(m)]\n",
    "    nl = [0] * (lmax - len(n)) + [int(x) for x in list(n)]\n",
    "    rl = []\n",
    "    for i in range(1, lmax+1):\n",
    "        if ml[-i] + nl[-i] + c == 0:\n",
    "            rl.insert(0, 0)\n",
    "            c = 0\n",
    "        elif ml[-i] + nl[-i] + c == 1:\n",
    "            rl.insert(0, 1)\n",
    "            c = 0\n",
    "        elif ml[-i] + nl[-i] + c == 2:\n",
    "            rl.insert(0, 0)\n",
    "            c = 1\n",
    "        elif ml[-i] + nl[-i] + c == 3:\n",
    "            rl.insert(0, 1)\n",
    "            c = 1\n",
    "    if c == 1:\n",
    "        rl.insert(0, 1)\n",
    "    if length > len(rl):\n",
    "        rl = [0] * (length - len(rl)) + rl\n",
    "    else:\n",
    "        rl = rl[-length:]\n",
    "    rl = \"\".join([str(x) for x in rl])\n",
    "    return rl\n",
    "\n",
    "def BitShift(n, shift):\n",
    "    n_ = n + \"\".join([\"0\"] * shift)\n",
    "    return n_[-len(n):]\n",
    "\n",
    "def TwoComp(n):\n",
    "    \"\"\"Return the two's complement of given number.\"\"\"\n",
    "    l = list(n)\n",
    "    for i in range(len(l)):\n",
    "        l[i] = \"0\" if l[i] == \"1\" else \"1\"\n",
    "    return Add(\"\".join(l), \"1\", len(l))"
   ]
  },
  {
   "cell_type": "code",
   "execution_count": 12,
   "metadata": {},
   "outputs": [
    {
     "name": "stdout",
     "output_type": "stream",
     "text": [
      "Input Positive Dividend24\n",
      "Input Positive Divisor2\n",
      "a= 00000 q= 11000\n",
      "----------------------------------------------\n",
      "\n",
      "Counter= 5\n",
      "a= 00001\n",
      "q= 10000\n",
      "a= 11111\n",
      "aa= 00001 q= 10000\n",
      "----------------------------------------------\n",
      "\n",
      "Counter= 4\n",
      "a= 00011\n",
      "q= 00000\n",
      "a= 00001\n",
      "a= 00001 q= 00001\n",
      "----------------------------------------------\n",
      "\n",
      "Counter= 3\n",
      "a= 00010\n",
      "q= 00010\n",
      "a= 00000\n",
      "a= 00000 q= 00011\n",
      "----------------------------------------------\n",
      "\n",
      "Counter= 2\n",
      "a= 00000\n",
      "q= 00110\n",
      "a= 11110\n",
      "aa= 00000 q= 00110\n",
      "----------------------------------------------\n",
      "\n",
      "Counter= 1\n",
      "a= 00000\n",
      "q= 01100\n",
      "a= 11110\n",
      "aa= 00000 q= 01100\n",
      "----------------------------------------------\n",
      "\n",
      "Remainder= 0\n",
      "Quotient= 12\n"
     ]
    }
   ],
   "source": [
    "def restoring():\n",
    "    q=str(bin(int(input(\"Input Positive Dividend\")))[2:])\n",
    "    m=str(bin(int(input(\"Input Positive Divisor\")))[2:])\n",
    "    if len(m)<max(len(q),len(m)):\n",
    "        m=('0'*(max(len(q),len(m))-len(m)))+m\n",
    "    if len(q)<max(len(q),len(m)):\n",
    "        q=('0'*(max(len(q),len(m))-len(q)))+q\n",
    "    a=bin(0)[2:] *len(max([m,q]))\n",
    "    print('a=',a,'q=',q)\n",
    "    n=len(m)\n",
    "    while(n>0):\n",
    "        print(\"----------------------------------------------\",end='\\n\\n')\n",
    "        print('Counter=',n)\n",
    "        b=BitShift(str(a)+str(q),1)\n",
    "        a=b[:len(m)]\n",
    "        print('a=',a)\n",
    "        q=b[len(m):]\n",
    "        print('q=',q)\n",
    "        a=Add(a,TwoComp(m),len(m))\n",
    "        print('a=',a)\n",
    "        if a[0]=='1':\n",
    "            a=Add(a,m,len(m))\n",
    "            q=q[:len(m)-1]+'0'\n",
    "            print('aa=',a,'q=',q)\n",
    "        else :\n",
    "            q=q[:len(m)-1]+'1'\n",
    "            print('a=',a,'q=',q)\n",
    "        n=n-1\n",
    "    print(\"----------------------------------------------\",end='\\n\\n')\n",
    "    print('Remainder=',int(a,2))\n",
    "    print('Quotient=',int(q,2))\n",
    "\n",
    "restoring()"
   ]
  }
 ],
 "metadata": {
  "kernelspec": {
   "display_name": "Python 3",
   "language": "python",
   "name": "python3"
  },
  "language_info": {
   "codemirror_mode": {
    "name": "ipython",
    "version": 3
   },
   "file_extension": ".py",
   "mimetype": "text/x-python",
   "name": "python",
   "nbconvert_exporter": "python",
   "pygments_lexer": "ipython3",
   "version": "3.7.6"
  }
 },
 "nbformat": 4,
 "nbformat_minor": 4
}
